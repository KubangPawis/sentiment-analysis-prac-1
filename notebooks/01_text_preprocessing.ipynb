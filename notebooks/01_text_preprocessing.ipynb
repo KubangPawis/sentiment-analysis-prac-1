{
 "cells": [
  {
   "cell_type": "markdown",
   "id": "2dd7f0fb-84f7-4c6c-b0bc-2ce4f7ff982f",
   "metadata": {},
   "source": [
    "<h1 style=\"text-align: center; font-size: 2.5rem; font-weight: bold; margin: 2.5rem 0 1rem;\">Sentiment Analysis on Labeled Financial Data</h1>\n",
    "<h2 style=\"text-align: center; font-size: 1rem; font-weight: 500; margin: 0 0 2rem;\">Text Preprocessing and Sentiment Analysis</h2>"
   ]
  },
  {
   "cell_type": "markdown",
   "id": "51c491fd-1f90-4ba4-9ee3-75d33c72bfcd",
   "metadata": {},
   "source": [
    "_____\n",
    "\n",
    "<h2 style=\"text-align: center; font-size: 1rem; margin: 2rem 0 1rem 0;\">Part I</h2>\n",
    "<h1 style=\"text-align: center; font-size: 2rem; margin: 0 0 2rem 0;\">Text Preprocessing</h1>"
   ]
  },
  {
   "cell_type": "markdown",
   "id": "86656eab",
   "metadata": {
    "id": "86656eab"
   },
   "source": [
    "<h2 style=\"padding: 0.5rem; background-color: #513d5c; color: white;\">Imports</h2>"
   ]
  },
  {
   "cell_type": "code",
   "execution_count": 1,
   "id": "50ba6ccb",
   "metadata": {
    "id": "50ba6ccb"
   },
   "outputs": [],
   "source": [
    "# Imports\n",
    "from textblob import TextBlob\n",
    "from nltk.tokenize import word_tokenize, sent_tokenize\n",
    "from nltk.stem.porter import PorterStemmer\n",
    "from nltk.corpus import stopwords\n",
    "import pandas as pd\n",
    "import numpy as np\n",
    "import nltk\n",
    "import string\n",
    "import emoji\n",
    "import re"
   ]
  },
  {
   "cell_type": "code",
   "execution_count": 2,
   "id": "d118a220-017d-4545-93b6-68a7f2c005cb",
   "metadata": {},
   "outputs": [
    {
     "name": "stderr",
     "output_type": "stream",
     "text": [
      "[nltk_data] Downloading package stopwords to\n",
      "[nltk_data]     C:\\Users\\KubangPawis\\AppData\\Roaming\\nltk_data...\n",
      "[nltk_data]   Package stopwords is already up-to-date!\n",
      "[nltk_data] Downloading package punkt_tab to\n",
      "[nltk_data]     C:\\Users\\KubangPawis\\AppData\\Roaming\\nltk_data...\n",
      "[nltk_data]   Package punkt_tab is already up-to-date!\n"
     ]
    },
    {
     "data": {
      "text/plain": [
       "True"
      ]
     },
     "execution_count": 2,
     "metadata": {},
     "output_type": "execute_result"
    }
   ],
   "source": [
    "# nltk - Dependencies\n",
    "nltk.download('stopwords')\n",
    "nltk.download('punkt_tab')"
   ]
  },
  {
   "cell_type": "code",
   "execution_count": 3,
   "id": "MvZWDynwybr7",
   "metadata": {
    "colab": {
     "base_uri": "https://localhost:8080/",
     "height": 206
    },
    "executionInfo": {
     "elapsed": 1005,
     "status": "ok",
     "timestamp": 1751900180094,
     "user": {
      "displayName": "Lance Alexander Ventura",
      "userId": "11619946257700132609"
     },
     "user_tz": -480
    },
    "id": "MvZWDynwybr7",
    "outputId": "0b428567-915b-4c50-8164-7cc5820a2d37"
   },
   "outputs": [
    {
     "data": {
      "text/html": [
       "<div>\n",
       "<style scoped>\n",
       "    .dataframe tbody tr th:only-of-type {\n",
       "        vertical-align: middle;\n",
       "    }\n",
       "\n",
       "    .dataframe tbody tr th {\n",
       "        vertical-align: top;\n",
       "    }\n",
       "\n",
       "    .dataframe thead th {\n",
       "        text-align: right;\n",
       "    }\n",
       "</style>\n",
       "<table border=\"1\" class=\"dataframe\">\n",
       "  <thead>\n",
       "    <tr style=\"text-align: right;\">\n",
       "      <th></th>\n",
       "      <th>Sentence</th>\n",
       "      <th>Sentiment</th>\n",
       "    </tr>\n",
       "  </thead>\n",
       "  <tbody>\n",
       "    <tr>\n",
       "      <th>0</th>\n",
       "      <td>The GeoSolutions technology will leverage Bene...</td>\n",
       "      <td>positive</td>\n",
       "    </tr>\n",
       "    <tr>\n",
       "      <th>1</th>\n",
       "      <td>$ESI on lows, down $1.50 to $2.50 BK a real po...</td>\n",
       "      <td>negative</td>\n",
       "    </tr>\n",
       "    <tr>\n",
       "      <th>2</th>\n",
       "      <td>For the last quarter of 2010 , Componenta 's n...</td>\n",
       "      <td>positive</td>\n",
       "    </tr>\n",
       "    <tr>\n",
       "      <th>3</th>\n",
       "      <td>According to the Finnish-Russian Chamber of Co...</td>\n",
       "      <td>neutral</td>\n",
       "    </tr>\n",
       "    <tr>\n",
       "      <th>4</th>\n",
       "      <td>The Swedish buyout firm has sold its remaining...</td>\n",
       "      <td>neutral</td>\n",
       "    </tr>\n",
       "  </tbody>\n",
       "</table>\n",
       "</div>"
      ],
      "text/plain": [
       "                                            Sentence Sentiment\n",
       "0  The GeoSolutions technology will leverage Bene...  positive\n",
       "1  $ESI on lows, down $1.50 to $2.50 BK a real po...  negative\n",
       "2  For the last quarter of 2010 , Componenta 's n...  positive\n",
       "3  According to the Finnish-Russian Chamber of Co...   neutral\n",
       "4  The Swedish buyout firm has sold its remaining...   neutral"
      ]
     },
     "execution_count": 3,
     "metadata": {},
     "output_type": "execute_result"
    }
   ],
   "source": [
    "df = pd.read_csv('../data/raw/financial-data.csv')\n",
    "df.head()"
   ]
  },
  {
   "cell_type": "markdown",
   "id": "hz3j79y-yySb",
   "metadata": {
    "id": "hz3j79y-yySb"
   },
   "source": [
    "<h2 style=\"padding: 0.5rem; background-color: #513d5c; color: white;\">Lowercasing Text</h2>"
   ]
  },
  {
   "cell_type": "code",
   "execution_count": 4,
   "id": "VW7XAUfVytdJ",
   "metadata": {
    "colab": {
     "base_uri": "https://localhost:8080/",
     "height": 35
    },
    "executionInfo": {
     "elapsed": 41,
     "status": "ok",
     "timestamp": 1751900506521,
     "user": {
      "displayName": "Lance Alexander Ventura",
      "userId": "11619946257700132609"
     },
     "user_tz": -480
    },
    "id": "VW7XAUfVytdJ",
    "outputId": "c8d22b49-1d71-4b53-fa1f-3b9cf5e62dcb"
   },
   "outputs": [
    {
     "data": {
      "text/plain": [
       "'According to the Finnish-Russian Chamber of Commerce , all the major construction companies of Finland are operating in Russia .'"
      ]
     },
     "execution_count": 4,
     "metadata": {},
     "output_type": "execute_result"
    }
   ],
   "source": [
    "df['Sentence'][3]"
   ]
  },
  {
   "cell_type": "code",
   "execution_count": 5,
   "id": "7aF_sQDpy45A",
   "metadata": {
    "id": "7aF_sQDpy45A"
   },
   "outputs": [],
   "source": [
    "df['Sentence'] = df['Sentence'].str.lower()"
   ]
  },
  {
   "cell_type": "code",
   "execution_count": 6,
   "id": "oijHY8buzC8Y",
   "metadata": {
    "colab": {
     "base_uri": "https://localhost:8080/",
     "height": 35
    },
    "executionInfo": {
     "elapsed": 24,
     "status": "ok",
     "timestamp": 1751900506552,
     "user": {
      "displayName": "Lance Alexander Ventura",
      "userId": "11619946257700132609"
     },
     "user_tz": -480
    },
    "id": "oijHY8buzC8Y",
    "outputId": "e1009e30-096e-4f13-a9d6-a7eb389dcfbb"
   },
   "outputs": [
    {
     "data": {
      "text/plain": [
       "'according to the finnish-russian chamber of commerce , all the major construction companies of finland are operating in russia .'"
      ]
     },
     "execution_count": 6,
     "metadata": {},
     "output_type": "execute_result"
    }
   ],
   "source": [
    "df['Sentence'][3]"
   ]
  },
  {
   "cell_type": "markdown",
   "id": "C5XqivlazKMq",
   "metadata": {
    "id": "C5XqivlazKMq"
   },
   "source": [
    "<h2 style=\"padding: 0.5rem; background-color: #513d5c; color: white;\">Remove HTML Tags</h2>"
   ]
  },
  {
   "cell_type": "code",
   "execution_count": 7,
   "id": "f9zg1ZX0zFEQ",
   "metadata": {
    "id": "f9zg1ZX0zFEQ"
   },
   "outputs": [],
   "source": [
    "def remove_html_tags(text):\n",
    "  pattern = re.compile('<.*?>')\n",
    "  return pattern.sub(r'', text)"
   ]
  },
  {
   "cell_type": "code",
   "execution_count": 8,
   "id": "aF37pj7_zjx5",
   "metadata": {
    "id": "aF37pj7_zjx5"
   },
   "outputs": [],
   "source": [
    "df['Sentence'] = df['Sentence'].apply(remove_html_tags)"
   ]
  },
  {
   "cell_type": "code",
   "execution_count": 9,
   "id": "7eZ6Z8rXzpHQ",
   "metadata": {
    "colab": {
     "base_uri": "https://localhost:8080/",
     "height": 458
    },
    "executionInfo": {
     "elapsed": 6,
     "status": "ok",
     "timestamp": 1751900506609,
     "user": {
      "displayName": "Lance Alexander Ventura",
      "userId": "11619946257700132609"
     },
     "user_tz": -480
    },
    "id": "7eZ6Z8rXzpHQ",
    "outputId": "f5e41f5d-dfbb-44bd-c439-7b1a4be121a5"
   },
   "outputs": [
    {
     "data": {
      "text/plain": [
       "0       the geosolutions technology will leverage bene...\n",
       "1       $esi on lows, down $1.50 to $2.50 bk a real po...\n",
       "2       for the last quarter of 2010 , componenta 's n...\n",
       "3       according to the finnish-russian chamber of co...\n",
       "4       the swedish buyout firm has sold its remaining...\n",
       "                              ...                        \n",
       "5837    rising costs have forced packaging producer hu...\n",
       "5838    nordic walking was first used as a summer trai...\n",
       "5839    according shipping company viking line , the e...\n",
       "5840    in the building and home improvement trade , s...\n",
       "5841    helsinki afx - kci konecranes said it has won ...\n",
       "Name: Sentence, Length: 5842, dtype: object"
      ]
     },
     "execution_count": 9,
     "metadata": {},
     "output_type": "execute_result"
    }
   ],
   "source": [
    "df['Sentence']"
   ]
  },
  {
   "cell_type": "markdown",
   "id": "yZ5z6Y2Hztiw",
   "metadata": {
    "id": "yZ5z6Y2Hztiw"
   },
   "source": [
    "<h2 style=\"padding: 0.5rem; background-color: #513d5c; color: white;\">Remove URLs</h2>"
   ]
  },
  {
   "cell_type": "code",
   "execution_count": 10,
   "id": "-2LJ4LXczrPY",
   "metadata": {
    "id": "-2LJ4LXczrPY"
   },
   "outputs": [],
   "source": [
    "def remove_url(text):\n",
    "    pattern = re.compile(r'https?://\\S+|www\\.\\S+')\n",
    "    return pattern.sub(r'', text)"
   ]
  },
  {
   "cell_type": "code",
   "execution_count": 11,
   "id": "-DMpHwGqzy8-",
   "metadata": {
    "id": "-DMpHwGqzy8-"
   },
   "outputs": [],
   "source": [
    "df['Sentence'] = df['Sentence'].apply(remove_url)"
   ]
  },
  {
   "cell_type": "code",
   "execution_count": 12,
   "id": "9RE8lqFZz-O_",
   "metadata": {
    "colab": {
     "base_uri": "https://localhost:8080/",
     "height": 458
    },
    "executionInfo": {
     "elapsed": 3,
     "status": "ok",
     "timestamp": 1751900506647,
     "user": {
      "displayName": "Lance Alexander Ventura",
      "userId": "11619946257700132609"
     },
     "user_tz": -480
    },
    "id": "9RE8lqFZz-O_",
    "outputId": "0424bae6-edf9-4846-fdb2-65ba8c6d9271"
   },
   "outputs": [
    {
     "data": {
      "text/plain": [
       "0       the geosolutions technology will leverage bene...\n",
       "1       $esi on lows, down $1.50 to $2.50 bk a real po...\n",
       "2       for the last quarter of 2010 , componenta 's n...\n",
       "3       according to the finnish-russian chamber of co...\n",
       "4       the swedish buyout firm has sold its remaining...\n",
       "                              ...                        \n",
       "5837    rising costs have forced packaging producer hu...\n",
       "5838    nordic walking was first used as a summer trai...\n",
       "5839    according shipping company viking line , the e...\n",
       "5840    in the building and home improvement trade , s...\n",
       "5841    helsinki afx - kci konecranes said it has won ...\n",
       "Name: Sentence, Length: 5842, dtype: object"
      ]
     },
     "execution_count": 12,
     "metadata": {},
     "output_type": "execute_result"
    }
   ],
   "source": [
    "df['Sentence']"
   ]
  },
  {
   "cell_type": "markdown",
   "id": "2tGtcQ6d0Daq",
   "metadata": {
    "id": "2tGtcQ6d0Daq"
   },
   "source": [
    "<h2 style=\"padding: 0.5rem; background-color: #513d5c; color: white;\">Remove Punctuations</h2>"
   ]
  },
  {
   "cell_type": "code",
   "execution_count": 13,
   "id": "FTReeQOT0Biw",
   "metadata": {
    "colab": {
     "base_uri": "https://localhost:8080/",
     "height": 35
    },
    "executionInfo": {
     "elapsed": 71,
     "status": "ok",
     "timestamp": 1751900506720,
     "user": {
      "displayName": "Lance Alexander Ventura",
      "userId": "11619946257700132609"
     },
     "user_tz": -480
    },
    "id": "FTReeQOT0Biw",
    "outputId": "27592272-3596-40f7-a281-31c0a1ad4c1b"
   },
   "outputs": [
    {
     "data": {
      "text/plain": [
       "'!\"#$%&\\'()*+,-./:;<=>?@[\\\\]^_`{|}~'"
      ]
     },
     "execution_count": 13,
     "metadata": {},
     "output_type": "execute_result"
    }
   ],
   "source": [
    "# Using the string library to retrieve all available punctuations\n",
    "punc = string.punctuation\n",
    "punc"
   ]
  },
  {
   "cell_type": "code",
   "execution_count": 14,
   "id": "HSJlbvrb0TS6",
   "metadata": {
    "id": "HSJlbvrb0TS6"
   },
   "outputs": [],
   "source": [
    "def remove_punc(text):\n",
    "  return text.translate(str.maketrans('', '', punc))"
   ]
  },
  {
   "cell_type": "code",
   "execution_count": 15,
   "id": "Lo2SNCUu0XWh",
   "metadata": {
    "id": "Lo2SNCUu0XWh"
   },
   "outputs": [],
   "source": [
    "df['Sentence'] = df['Sentence'].apply(remove_punc)"
   ]
  },
  {
   "cell_type": "code",
   "execution_count": 16,
   "id": "A0YOHGpE0fR4",
   "metadata": {
    "colab": {
     "base_uri": "https://localhost:8080/",
     "height": 458
    },
    "executionInfo": {
     "elapsed": 3,
     "status": "ok",
     "timestamp": 1751900506738,
     "user": {
      "displayName": "Lance Alexander Ventura",
      "userId": "11619946257700132609"
     },
     "user_tz": -480
    },
    "id": "A0YOHGpE0fR4",
    "outputId": "d49a3263-c4b3-488a-cb39-86f3b1923e13"
   },
   "outputs": [
    {
     "data": {
      "text/plain": [
       "0       the geosolutions technology will leverage bene...\n",
       "1       esi on lows down 150 to 250 bk a real possibility\n",
       "2       for the last quarter of 2010  componenta s net...\n",
       "3       according to the finnishrussian chamber of com...\n",
       "4       the swedish buyout firm has sold its remaining...\n",
       "                              ...                        \n",
       "5837    rising costs have forced packaging producer hu...\n",
       "5838    nordic walking was first used as a summer trai...\n",
       "5839    according shipping company viking line  the eu...\n",
       "5840    in the building and home improvement trade  sa...\n",
       "5841    helsinki afx  kci konecranes said it has won a...\n",
       "Name: Sentence, Length: 5842, dtype: object"
      ]
     },
     "execution_count": 16,
     "metadata": {},
     "output_type": "execute_result"
    }
   ],
   "source": [
    "df['Sentence']"
   ]
  },
  {
   "cell_type": "markdown",
   "id": "Q-pXorcF0ipS",
   "metadata": {
    "id": "Q-pXorcF0ipS"
   },
   "source": [
    "<h2 style=\"padding: 0.5rem; background-color: #513d5c; color: white;\">Handling ChatWords</h2>"
   ]
  },
  {
   "cell_type": "code",
   "execution_count": 17,
   "id": "u8HtJrjJ0hNo",
   "metadata": {
    "id": "u8HtJrjJ0hNo"
   },
   "outputs": [],
   "source": [
    "# Here Come ChatWords Which i Get from a Github Repository\n",
    "# Repository Link : https://github.com/rishabhverma17/sms_slang_translator/blob/master/slang.txt\n",
    "chat_words = {\n",
    "    \"AFAIK\": \"As Far As I Know\",\n",
    "    \"AFK\": \"Away From Keyboard\",\n",
    "    \"ASAP\": \"As Soon As Possible\",\n",
    "    \"ATK\": \"At The Keyboard\",\n",
    "    \"ATM\": \"At The Moment\",\n",
    "    \"A3\": \"Anytime, Anywhere, Anyplace\",\n",
    "    \"BAK\": \"Back At Keyboard\",\n",
    "    \"BBL\": \"Be Back Later\",\n",
    "    \"BBS\": \"Be Back Soon\",\n",
    "    \"BFN\": \"Bye For Now\",\n",
    "    \"B4N\": \"Bye For Now\",\n",
    "    \"BRB\": \"Be Right Back\",\n",
    "    \"BRT\": \"Be Right There\",\n",
    "    \"BTW\": \"By The Way\",\n",
    "    \"B4\": \"Before\",\n",
    "    \"B4N\": \"Bye For Now\",\n",
    "    \"CU\": \"See You\",\n",
    "    \"CUL8R\": \"See You Later\",\n",
    "    \"CYA\": \"See You\",\n",
    "    \"FAQ\": \"Frequently Asked Questions\",\n",
    "    \"FC\": \"Fingers Crossed\",\n",
    "    \"FWIW\": \"For What It's Worth\",\n",
    "    \"FYI\": \"For Your Information\",\n",
    "    \"GAL\": \"Get A Life\",\n",
    "    \"GG\": \"Good Game\",\n",
    "    \"GN\": \"Good Night\",\n",
    "    \"GMTA\": \"Great Minds Think Alike\",\n",
    "    \"GR8\": \"Great!\",\n",
    "    \"G9\": \"Genius\",\n",
    "    \"IC\": \"I See\",\n",
    "    \"ICQ\": \"I Seek you (also a chat program)\",\n",
    "    \"ILU\": \"ILU: I Love You\",\n",
    "    \"IMHO\": \"In My Honest/Humble Opinion\",\n",
    "    \"IMO\": \"In My Opinion\",\n",
    "    \"IOW\": \"In Other Words\",\n",
    "    \"IRL\": \"In Real Life\",\n",
    "    \"KISS\": \"Keep It Simple, Stupid\",\n",
    "    \"LDR\": \"Long Distance Relationship\",\n",
    "    \"LMAO\": \"Laugh My A.. Off\",\n",
    "    \"LOL\": \"Laughing Out Loud\",\n",
    "    \"LTNS\": \"Long Time No See\",\n",
    "    \"L8R\": \"Later\",\n",
    "    \"MTE\": \"My Thoughts Exactly\",\n",
    "    \"M8\": \"Mate\",\n",
    "    \"NRN\": \"No Reply Necessary\",\n",
    "    \"OIC\": \"Oh I See\",\n",
    "    \"PITA\": \"Pain In The A..\",\n",
    "    \"PRT\": \"Party\",\n",
    "    \"PRW\": \"Parents Are Watching\",\n",
    "    \"QPSA?\": \"Que Pasa?\",\n",
    "    \"ROFL\": \"Rolling On The Floor Laughing\",\n",
    "    \"ROFLOL\": \"Rolling On The Floor Laughing Out Loud\",\n",
    "    \"ROTFLMAO\": \"Rolling On The Floor Laughing My A.. Off\",\n",
    "    \"SK8\": \"Skate\",\n",
    "    \"STATS\": \"Your sex and age\",\n",
    "    \"ASL\": \"Age, Sex, Location\",\n",
    "    \"THX\": \"Thank You\",\n",
    "    \"TTFN\": \"Ta-Ta For Now!\",\n",
    "    \"TTYL\": \"Talk To You Later\",\n",
    "    \"U\": \"You\",\n",
    "    \"U2\": \"You Too\",\n",
    "    \"U4E\": \"Yours For Ever\",\n",
    "    \"WB\": \"Welcome Back\",\n",
    "    \"WTF\": \"What The F...\",\n",
    "    \"WTG\": \"Way To Go!\",\n",
    "    \"WUF\": \"Where Are You From?\",\n",
    "    \"W8\": \"Wait...\",\n",
    "    \"7K\": \"Sick:-D Laugher\",\n",
    "    \"TFW\": \"That feeling when\",\n",
    "    \"MFW\": \"My face when\",\n",
    "    \"MRW\": \"My reaction when\",\n",
    "    \"IFYP\": \"I feel your pain\",\n",
    "    \"TNTL\": \"Trying not to laugh\",\n",
    "    \"JK\": \"Just kidding\",\n",
    "    \"IDC\": \"I don't care\",\n",
    "    \"ILY\": \"I love you\",\n",
    "    \"IMU\": \"I miss you\",\n",
    "    \"ADIH\": \"Another day in hell\",\n",
    "    \"ZZZ\": \"Sleeping, bored, tired\",\n",
    "    \"WYWH\": \"Wish you were here\",\n",
    "    \"TIME\": \"Tears in my eyes\",\n",
    "    \"BAE\": \"Before anyone else\",\n",
    "    \"FIMH\": \"Forever in my heart\",\n",
    "    \"BSAAW\": \"Big smile and a wink\",\n",
    "    \"BWL\": \"Bursting with laughter\",\n",
    "    \"BFF\": \"Best friends forever\",\n",
    "    \"CSL\": \"Can't stop laughing\"\n",
    "}"
   ]
  },
  {
   "cell_type": "code",
   "execution_count": 18,
   "id": "Iuf3ENOX1AFh",
   "metadata": {
    "id": "Iuf3ENOX1AFh"
   },
   "outputs": [],
   "source": [
    "def chat_conversion(text):\n",
    "    new_text = []\n",
    "    for i in text.split():\n",
    "        if i.upper() in chat_words:\n",
    "            new_text.append(chat_words[i.upper()])\n",
    "        else:\n",
    "            new_text.append(i)\n",
    "    return \" \".join(new_text)"
   ]
  },
  {
   "cell_type": "code",
   "execution_count": 19,
   "id": "fcfsf-kA1CIx",
   "metadata": {
    "id": "fcfsf-kA1CIx"
   },
   "outputs": [],
   "source": [
    "df['Sentence'] = df['Sentence'].apply(chat_conversion)"
   ]
  },
  {
   "cell_type": "code",
   "execution_count": 20,
   "id": "L7kswZF21Hpf",
   "metadata": {
    "colab": {
     "base_uri": "https://localhost:8080/",
     "height": 241
    },
    "executionInfo": {
     "elapsed": 30,
     "status": "ok",
     "timestamp": 1751900506805,
     "user": {
      "displayName": "Lance Alexander Ventura",
      "userId": "11619946257700132609"
     },
     "user_tz": -480
    },
    "id": "L7kswZF21Hpf",
    "outputId": "4181f0ab-118e-4238-fcc0-6c0c4aca3dac"
   },
   "outputs": [
    {
     "data": {
      "text/plain": [
       "0    the geosolutions technology will leverage bene...\n",
       "1    esi on lows down 150 to 250 bk a real possibility\n",
       "2    for the last quarter of 2010 componenta s net ...\n",
       "3    according to the finnishrussian chamber of com...\n",
       "4    the swedish buyout firm has sold its remaining...\n",
       "Name: Sentence, dtype: object"
      ]
     },
     "execution_count": 20,
     "metadata": {},
     "output_type": "execute_result"
    }
   ],
   "source": [
    "df['Sentence'].head()"
   ]
  },
  {
   "cell_type": "markdown",
   "id": "qHw1Poxw1PEI",
   "metadata": {
    "id": "qHw1Poxw1PEI"
   },
   "source": [
    "<h2 style=\"padding: 0.5rem; background-color: #513d5c; color: white;\">Spelling Correction</h2>"
   ]
  },
  {
   "cell_type": "code",
   "execution_count": 21,
   "id": "PdZXv3Xw1Jex",
   "metadata": {
    "colab": {
     "base_uri": "https://localhost:8080/"
    },
    "executionInfo": {
     "elapsed": 1976,
     "status": "ok",
     "timestamp": 1751900508777,
     "user": {
      "displayName": "Lance Alexander Ventura",
      "userId": "11619946257700132609"
     },
     "user_tz": -480
    },
    "id": "PdZXv3Xw1Jex",
    "outputId": "531495af-9ab6-4c63-f9c1-da3ffc8266a0"
   },
   "outputs": [
    {
     "name": "stdout",
     "output_type": "stream",
     "text": [
      "[ORIGINAL]\n",
      "\n",
      "the geosolutions technology will leverage benefon s gps solutions by providing location based search technology a communities platform location relevant multimedia content and a new and powerful commercial model\n",
      "esi on lows down 150 to 250 bk a real possibility\n",
      "for the last quarter of 2010 componenta s net sales doubled to eur131m from eur76m for the same period a year earlier while it moved to a zero pretax profit from a pretax loss of eur7m\n",
      "according to the finnishrussian chamber of commerce all the major construction companies of finland are operating in russia\n",
      "[SPELLING CORRECTED]\n",
      "\n",
      "the resolutions technology will beverage benefit s gas solutions by providing location based search technology a communities platform location relevant multimedia content and a new and powerful commercial model\n",
      "est on lows down 150 to 250 by a real possibility\n",
      "for the last quarter of 2010 component s net sales doubled to eur131m from eur76m for the same period a year earlier while it moved to a zero pretty profit from a pretty loss of durum\n",
      "according to the finnishrussian chamber of commerce all the major construction companies of finland are operating in russia\n"
     ]
    }
   ],
   "source": [
    "# Using the TextBlob on \"Record 3\"\n",
    "print('[ORIGINAL]')\n",
    "print()\n",
    "print(df.loc[0, 'Sentence'])\n",
    "print(df.loc[1, 'Sentence'])\n",
    "print(df.loc[2, 'Sentence'])\n",
    "print(df.loc[3, 'Sentence'])\n",
    "\n",
    "print('[SPELLING CORRECTED]')\n",
    "print()\n",
    "print(TextBlob(df.loc[0, 'Sentence']).correct().string)\n",
    "print(TextBlob(df.loc[1, 'Sentence']).correct().string)\n",
    "print(TextBlob(df.loc[2, 'Sentence']).correct().string)\n",
    "print(TextBlob(df.loc[3, 'Sentence']).correct().string)"
   ]
  },
  {
   "cell_type": "markdown",
   "id": "hh5uTYkp15Sx",
   "metadata": {
    "id": "hh5uTYkp15Sx"
   },
   "source": [
    "<h2 style=\"padding: 0.5rem; background-color: #513d5c; color: white;\">Handling StopWords</h2>"
   ]
  },
  {
   "cell_type": "code",
   "execution_count": 22,
   "id": "uk9EtzBf1wCe",
   "metadata": {
    "colab": {
     "base_uri": "https://localhost:8080/"
    },
    "executionInfo": {
     "elapsed": 152,
     "status": "ok",
     "timestamp": 1751900508933,
     "user": {
      "displayName": "Lance Alexander Ventura",
      "userId": "11619946257700132609"
     },
     "user_tz": -480
    },
    "id": "uk9EtzBf1wCe",
    "outputId": "1183aadd-09ca-4867-8b47-aadcf3a61794"
   },
   "outputs": [],
   "source": [
    "# Here we can see all the stopwords in English.However we can chose different Languages also like spanish etc.\n",
    "stopword = stopwords.words('english')"
   ]
  },
  {
   "cell_type": "code",
   "execution_count": 23,
   "id": "sX4XScbq2aQy",
   "metadata": {
    "id": "sX4XScbq2aQy"
   },
   "outputs": [],
   "source": [
    "# Function\n",
    "def remove_stopwords(text):\n",
    "    new_text = []\n",
    "\n",
    "    for word in text.split():\n",
    "        if word in stopword:\n",
    "            new_text.append('')\n",
    "        else:\n",
    "            new_text.append(word)\n",
    "    x = new_text[:]\n",
    "    new_text.clear()\n",
    "    return \" \".join(x)"
   ]
  },
  {
   "cell_type": "code",
   "execution_count": 24,
   "id": "NpvN4TAH2gSv",
   "metadata": {
    "id": "NpvN4TAH2gSv"
   },
   "outputs": [],
   "source": [
    "df['Sentence'] = df['Sentence'].apply(remove_stopwords)"
   ]
  },
  {
   "cell_type": "code",
   "execution_count": 25,
   "id": "eU6MdX3N9BeS",
   "metadata": {
    "colab": {
     "base_uri": "https://localhost:8080/",
     "height": 458
    },
    "executionInfo": {
     "elapsed": 9,
     "status": "ok",
     "timestamp": 1751900509405,
     "user": {
      "displayName": "Lance Alexander Ventura",
      "userId": "11619946257700132609"
     },
     "user_tz": -480
    },
    "id": "eU6MdX3N9BeS",
    "outputId": "5d9a067f-68da-432b-9b99-cced1121e80f"
   },
   "outputs": [
    {
     "data": {
      "text/plain": [
       "0        geosolutions technology  leverage benefon  gp...\n",
       "1                esi  lows  150  250 bk  real possibility\n",
       "2         last quarter  2010 componenta  net sales dou...\n",
       "3       according   finnishrussian chamber  commerce  ...\n",
       "4        swedish buyout firm  sold  remaining 224 perc...\n",
       "                              ...                        \n",
       "5837    rising costs  forced packaging producer huhtam...\n",
       "5838    nordic walking  first used   summer training m...\n",
       "5839    according shipping company viking line  eu dec...\n",
       "5840      building  home improvement trade sales decre...\n",
       "5841    helsinki afx kci konecranes said     order  fo...\n",
       "Name: Sentence, Length: 5842, dtype: object"
      ]
     },
     "execution_count": 25,
     "metadata": {},
     "output_type": "execute_result"
    }
   ],
   "source": [
    "df['Sentence']"
   ]
  },
  {
   "cell_type": "markdown",
   "id": "NbOLx13k2sro",
   "metadata": {
    "id": "NbOLx13k2sro"
   },
   "source": [
    "<h2 style=\"padding: 0.5rem; background-color: #513d5c; color: white;\">Handling Emojis</h2>"
   ]
  },
  {
   "cell_type": "markdown",
   "id": "M58uu5sj3jO3",
   "metadata": {
    "id": "M58uu5sj3jO3"
   },
   "source": [
    "### Simply Remove Emojis"
   ]
  },
  {
   "cell_type": "code",
   "execution_count": 26,
   "id": "aVz3zNzF2r5D",
   "metadata": {
    "id": "aVz3zNzF2r5D"
   },
   "outputs": [],
   "source": [
    "# Again Here we use The Regular Expressions to Remove the Emojies from Text or Whole Corpus.\n",
    "def remove_emoji(text):\n",
    "    emoji_pattern = re.compile(\"[\"\n",
    "                           u\"\\U0001F600-\\U0001F64F\"  # emoticons\n",
    "                           u\"\\U0001F300-\\U0001F5FF\"  # symbols & pictographs\n",
    "                           u\"\\U0001F680-\\U0001F6FF\"  # transport & map symbols\n",
    "                           u\"\\U0001F1E0-\\U0001F1FF\"  # flags (iOS)\n",
    "                           u\"\\U00002702-\\U000027B0\"\n",
    "                           u\"\\U000024C2-\\U0001F251\"\n",
    "                           \"]+\", flags=re.UNICODE)\n",
    "    return emoji_pattern.sub(r'', text)"
   ]
  },
  {
   "cell_type": "code",
   "execution_count": 27,
   "id": "sM-UF_R924yp",
   "metadata": {
    "id": "sM-UF_R924yp"
   },
   "outputs": [],
   "source": [
    "df['Sentence'] = df['Sentence'].apply(remove_emoji)"
   ]
  },
  {
   "cell_type": "markdown",
   "id": "IKpLZNVZ3xWI",
   "metadata": {
    "id": "IKpLZNVZ3xWI"
   },
   "source": [
    "### Converting Emojis to Text"
   ]
  },
  {
   "cell_type": "code",
   "execution_count": 28,
   "id": "VEFdmO4M31Af",
   "metadata": {
    "id": "VEFdmO4M31Af"
   },
   "outputs": [],
   "source": [
    "df['Sentence'] = df['Sentence'].apply(lambda x: emoji.demojize(x))"
   ]
  },
  {
   "cell_type": "markdown",
   "id": "Ixbvwoef4GUJ",
   "metadata": {
    "id": "Ixbvwoef4GUJ"
   },
   "source": [
    "<h2 style=\"padding: 0.5rem; background-color: #513d5c; color: white;\">Tokenization</h2>"
   ]
  },
  {
   "cell_type": "code",
   "execution_count": 29,
   "id": "Mfd6P27F4IJe",
   "metadata": {
    "colab": {
     "base_uri": "https://localhost:8080/",
     "height": 35
    },
    "executionInfo": {
     "elapsed": 17,
     "status": "ok",
     "timestamp": 1751900510833,
     "user": {
      "displayName": "Lance Alexander Ventura",
      "userId": "11619946257700132609"
     },
     "user_tz": -480
    },
    "id": "Mfd6P27F4IJe",
    "outputId": "faaffd98-f723-4098-989f-a8aad9d8955f"
   },
   "outputs": [
    {
     "data": {
      "text/plain": [
       "' geosolutions technology  leverage benefon  gps solutions  providing location based search technology  communities platform location relevant multimedia content   new  powerful commercial model'"
      ]
     },
     "execution_count": 29,
     "metadata": {},
     "output_type": "execute_result"
    }
   ],
   "source": [
    "df.loc[0, 'Sentence']"
   ]
  },
  {
   "cell_type": "code",
   "execution_count": 30,
   "id": "g0GgWwKs6NIf",
   "metadata": {
    "id": "g0GgWwKs6NIf"
   },
   "outputs": [],
   "source": [
    "# Tokenization Methods\n",
    "def word_tokenize_rows(text):\n",
    "  return word_tokenize(text)\n",
    "\n",
    "def sentence_tokenize_rows(text):\n",
    "  return sent_tokenize(text)"
   ]
  },
  {
   "cell_type": "code",
   "execution_count": 31,
   "id": "WOfXMl7p6v5e",
   "metadata": {
    "id": "WOfXMl7p6v5e"
   },
   "outputs": [],
   "source": [
    "# Word Tokenization\n",
    "df['Word_Tokenization'] = df['Sentence'].apply(word_tokenize_rows)"
   ]
  },
  {
   "cell_type": "code",
   "execution_count": 32,
   "id": "_9sBbcCg6103",
   "metadata": {
    "colab": {
     "base_uri": "https://localhost:8080/",
     "height": 458
    },
    "executionInfo": {
     "elapsed": 9,
     "status": "ok",
     "timestamp": 1751900511885,
     "user": {
      "displayName": "Lance Alexander Ventura",
      "userId": "11619946257700132609"
     },
     "user_tz": -480
    },
    "id": "_9sBbcCg6103",
    "outputId": "5681d685-55ac-4764-ac1f-8b775b570605"
   },
   "outputs": [
    {
     "data": {
      "text/plain": [
       "0       [geosolutions, technology, leverage, benefon, ...\n",
       "1            [esi, lows, 150, 250, bk, real, possibility]\n",
       "2       [last, quarter, 2010, componenta, net, sales, ...\n",
       "3       [according, finnishrussian, chamber, commerce,...\n",
       "4       [swedish, buyout, firm, sold, remaining, 224, ...\n",
       "                              ...                        \n",
       "5837    [rising, costs, forced, packaging, producer, h...\n",
       "5838    [nordic, walking, first, used, summer, trainin...\n",
       "5839    [according, shipping, company, viking, line, e...\n",
       "5840    [building, home, improvement, trade, sales, de...\n",
       "5841    [helsinki, afx, kci, konecranes, said, order, ...\n",
       "Name: Word_Tokenization, Length: 5842, dtype: object"
      ]
     },
     "execution_count": 32,
     "metadata": {},
     "output_type": "execute_result"
    }
   ],
   "source": [
    "df['Word_Tokenization']"
   ]
  },
  {
   "cell_type": "code",
   "execution_count": 33,
   "id": "Na856V-D7Acf",
   "metadata": {
    "id": "Na856V-D7Acf"
   },
   "outputs": [],
   "source": [
    "# Sentence Tokenization\n",
    "df['Sent_Tokenization'] = df['Sentence'].apply(sentence_tokenize_rows)"
   ]
  },
  {
   "cell_type": "code",
   "execution_count": 34,
   "id": "vYBNVOL-7wYm",
   "metadata": {
    "colab": {
     "base_uri": "https://localhost:8080/",
     "height": 458
    },
    "executionInfo": {
     "elapsed": 20,
     "status": "ok",
     "timestamp": 1751900511917,
     "user": {
      "displayName": "Lance Alexander Ventura",
      "userId": "11619946257700132609"
     },
     "user_tz": -480
    },
    "id": "vYBNVOL-7wYm",
    "outputId": "00f983b5-985b-46dc-9554-4771e55669e7"
   },
   "outputs": [
    {
     "data": {
      "text/plain": [
       "0       [ geosolutions technology  leverage benefon  g...\n",
       "1              [esi  lows  150  250 bk  real possibility]\n",
       "2       [  last quarter  2010 componenta  net sales do...\n",
       "3       [according   finnishrussian chamber  commerce ...\n",
       "4       [ swedish buyout firm  sold  remaining 224 per...\n",
       "                              ...                        \n",
       "5837    [rising costs  forced packaging producer huhta...\n",
       "5838    [nordic walking  first used   summer training ...\n",
       "5839    [according shipping company viking line  eu de...\n",
       "5840    [  building  home improvement trade sales decr...\n",
       "5841    [helsinki afx kci konecranes said     order  f...\n",
       "Name: Sent_Tokenization, Length: 5842, dtype: object"
      ]
     },
     "execution_count": 34,
     "metadata": {},
     "output_type": "execute_result"
    }
   ],
   "source": [
    "df['Sent_Tokenization']"
   ]
  },
  {
   "cell_type": "markdown",
   "id": "bMHX1XD48dz6",
   "metadata": {
    "id": "bMHX1XD48dz6"
   },
   "source": [
    "<h2 style=\"padding: 0.5rem; background-color: #513d5c; color: white;\">Stemming</h2>"
   ]
  },
  {
   "cell_type": "code",
   "execution_count": 35,
   "id": "-oxkTjbj8dTP",
   "metadata": {
    "id": "-oxkTjbj8dTP"
   },
   "outputs": [],
   "source": [
    "stemmer = PorterStemmer()"
   ]
  },
  {
   "cell_type": "code",
   "execution_count": 36,
   "id": "ZRY44sLP8olX",
   "metadata": {
    "id": "ZRY44sLP8olX"
   },
   "outputs": [],
   "source": [
    "def stem_words(text):\n",
    "    return \" \".join([stemmer.stem(word) for word in text.split()])"
   ]
  },
  {
   "cell_type": "code",
   "execution_count": 37,
   "id": "D72_Jp9V8riX",
   "metadata": {
    "id": "D72_Jp9V8riX"
   },
   "outputs": [],
   "source": [
    "df['Sentence'] = df['Sentence'].apply(stem_words)"
   ]
  },
  {
   "cell_type": "code",
   "execution_count": 38,
   "id": "y4yElIks86po",
   "metadata": {
    "colab": {
     "base_uri": "https://localhost:8080/",
     "height": 458
    },
    "executionInfo": {
     "elapsed": 9,
     "status": "ok",
     "timestamp": 1751900513733,
     "user": {
      "displayName": "Lance Alexander Ventura",
      "userId": "11619946257700132609"
     },
     "user_tz": -480
    },
    "id": "y4yElIks86po",
    "outputId": "65419665-f992-4318-ad61-b8e9dd2c5322"
   },
   "outputs": [
    {
     "data": {
      "text/plain": [
       "0       geosolut technolog leverag benefon gp solut pr...\n",
       "1                         esi low 150 250 bk real possibl\n",
       "2       last quarter 2010 componenta net sale doubl eu...\n",
       "3       accord finnishrussian chamber commerc major co...\n",
       "4       swedish buyout firm sold remain 224 percent st...\n",
       "                              ...                        \n",
       "5837    rise cost forc packag produc huhtamaki axe 90 ...\n",
       "5838    nordic walk first use summer train method cros...\n",
       "5839    accord ship compani vike line eu decis signifi...\n",
       "5840    build home improv trade sale decreas 225 eur 2...\n",
       "5841    helsinki afx kci konecran said order four hot ...\n",
       "Name: Sentence, Length: 5842, dtype: object"
      ]
     },
     "execution_count": 38,
     "metadata": {},
     "output_type": "execute_result"
    }
   ],
   "source": [
    "df['Sentence']"
   ]
  },
  {
   "cell_type": "markdown",
   "id": "f66799d8-7228-4c58-94f8-7f0bffc06ad4",
   "metadata": {
    "id": "bMHX1XD48dz6"
   },
   "source": [
    "<h2 style=\"padding: 0.5rem; background-color: #513d5c; color: white;\">Exporting the Preprocessed Text Data</h2>"
   ]
  },
  {
   "cell_type": "code",
   "execution_count": 39,
   "id": "2e91c731-18e2-450e-b23d-1fdba60975db",
   "metadata": {},
   "outputs": [],
   "source": [
    "clean_df = df[['Sentence', 'Sentiment']]\n",
    "clean_df.to_csv('../data/clean/financial-data-clean.csv', index=False)"
   ]
  },
  {
   "cell_type": "code",
   "execution_count": null,
   "id": "287b2655-f29b-4e87-b78a-91f3f5d583fb",
   "metadata": {},
   "outputs": [],
   "source": []
  }
 ],
 "metadata": {
  "colab": {
   "provenance": []
  },
  "kernelspec": {
   "display_name": "SentiAnalysis Act1 (venv)",
   "language": "python",
   "name": "senti1_venv"
  },
  "language_info": {
   "codemirror_mode": {
    "name": "ipython",
    "version": 3
   },
   "file_extension": ".py",
   "mimetype": "text/x-python",
   "name": "python",
   "nbconvert_exporter": "python",
   "pygments_lexer": "ipython3",
   "version": "3.11.9"
  }
 },
 "nbformat": 4,
 "nbformat_minor": 5
}
